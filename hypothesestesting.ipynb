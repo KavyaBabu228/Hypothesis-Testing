{
 "cells": [
  {
   "cell_type": "code",
   "execution_count": 7,
   "id": "e8c7ec0e-34a9-40e3-bc52-cb2ba30d3594",
   "metadata": {},
   "outputs": [
    {
     "name": "stdout",
     "output_type": "stream",
     "text": [
      "Mean Weekly Cost: Rs. 4000\n",
      "Sample Mean Weekly Cost: Rs. 3050\n",
      "Test Statistic: -7.6000\n",
      "Critical Value (Z): 1.6449\n",
      "Fail to reject null hypothesis.\n",
      "There is not enough evidence to support the restaurant owners' claim.\n"
     ]
    }
   ],
   "source": [
    "import scipy.stats as stats\n",
    "\n",
    "# 1.Hypotheses statement\n",
    "# Null Hypothesis (H0): The mean weekly operating cost is equal to the theoretical mean cost.\n",
    "# Alternative Hypothesis (H1): The mean weekly operating cost is greater than the theoretical mean cost.\n",
    "\n",
    "#data\n",
    "sample_mean = 3050  \n",
    "X = 600  #the number of units produced in a week\n",
    "fixed_cost = 1000 \n",
    "variable_cost_per_unit = 5  \n",
    "sample_size = 25  \n",
    "standard_d = 5*25  \n",
    "\n",
    "# 2. Calculate the Mean \n",
    "# W = $1,000 + $5X\n",
    "mean_cost = fixed_cost + (variable_cost_per_unit * X)\n",
    "\n",
    "# 3. Calculate the Test Statistic\n",
    "# σ = 5 * standard deviation of X \n",
    "sigma= variable_cost_per_unit * standard_d\n",
    "test_statistic = (sample_mean - mean_cost) / (sigma / (sample_size ** 0.5))\n",
    "\n",
    "# 4.Critical Value\n",
    "alpha = 0.05  \n",
    "critical_value = stats.norm.ppf(1 - alpha)  # One-tailed test\n",
    "\n",
    "# 5. Make a Decision\n",
    "# Compare test statistic with the critical value\n",
    "reject_null_hypothesis = test_statistic > critical_value\n",
    "\n",
    "# Conclusion\n",
    "print(f\"Mean Weekly Cost: Rs. {mean_cost}\")\n",
    "print(f\"Sample Mean Weekly Cost: Rs. {sample_mean}\")\n",
    "print(f\"Test Statistic: {test_statistic:.4f}\")\n",
    "print(f\"Critical Value (Z): {critical_value:.4f}\")\n",
    "print(\"Reject null hypothesis:\" if reject_null_hypothesis else \"Fail to reject null hypothesis.\")\n",
    "\n",
    "# Conclusion Statement\n",
    "if reject_null_hypothesis:\n",
    "    print(\"There is strong evidence to support the restaurant owners' claim that the weekly operating costs are higher than the model suggests.\")\n",
    "else:\n",
    "    print(\"There is not enough evidence to support the restaurant owners' claim.\")\n"
   ]
  },
  {
   "cell_type": "code",
   "execution_count": null,
   "id": "88ab9ab9-598e-4170-9b7a-4c76ae8b7114",
   "metadata": {},
   "outputs": [],
   "source": []
  }
 ],
 "metadata": {
  "kernelspec": {
   "display_name": "Python 3 (ipykernel)",
   "language": "python",
   "name": "python3"
  },
  "language_info": {
   "codemirror_mode": {
    "name": "ipython",
    "version": 3
   },
   "file_extension": ".py",
   "mimetype": "text/x-python",
   "name": "python",
   "nbconvert_exporter": "python",
   "pygments_lexer": "ipython3",
   "version": "3.12.4"
  }
 },
 "nbformat": 4,
 "nbformat_minor": 5
}
